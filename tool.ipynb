{
 "cells": [
  {
   "cell_type": "code",
   "execution_count": 6,
   "metadata": {},
   "outputs": [],
   "source": [
    "import cv2\n",
    "import numpy as np\n",
    "import mss\n",
    "\n",
    "# Khởi tạo công cụ chụp màn hình\n",
    "with mss.mss() as sct:\n",
    "    # Xác định khu vực màn hình muốn chụp\n",
    "    monitor = {\n",
    "        \"top\": 0,    # Tọa độ y của góc trên bên trái\n",
    "        \"left\": 0,   # Tọa độ x của góc trên bên trái\n",
    "        \"width\": 1400,  # Chiều rộng của khu vực chụp\n",
    "        \"height\": 1000  # Chiều cao của khu vực chụp\n",
    "    }\n",
    "\n",
    "    # Chụp màn hình\n",
    "    screenshot = sct.grab(monitor)\n",
    "\n",
    "    # Chuyển đổi dữ liệu ảnh thành mảng numpy\n",
    "    img = np.array(screenshot)\n",
    "\n",
    "    # Chuyển đổi từ BGRA sang BGR cho OpenCV\n",
    "    img = cv2.cvtColor(img, cv2.COLOR_BGRA2BGR)\n",
    "\n",
    "    # Hiển thị ảnh chụp\n",
    "    cv2.imshow(\"Screen Capture\", img)\n",
    "    cv2.waitKey(0)\n",
    "    cv2.destroyAllWindows()\n",
    "\n",
    "    # Lưu ảnh chụp thành file\n",
    "    cv2.imwrite(\"screenshot2.png\", img)\n"
   ]
  },
  {
   "cell_type": "code",
   "execution_count": null,
   "metadata": {},
   "outputs": [],
   "source": [
    "import ultralytics \n"
   ]
  }
 ],
 "metadata": {
  "kernelspec": {
   "display_name": "Python 3",
   "language": "python",
   "name": "python3"
  },
  "language_info": {
   "codemirror_mode": {
    "name": "ipython",
    "version": 3
   },
   "file_extension": ".py",
   "mimetype": "text/x-python",
   "name": "python",
   "nbconvert_exporter": "python",
   "pygments_lexer": "ipython3",
   "version": "3.10.11"
  }
 },
 "nbformat": 4,
 "nbformat_minor": 2
}
